{
 "cells": [
  {
   "cell_type": "markdown",
   "metadata": {
    "toc": "true"
   },
   "source": [
    "# Table of Contents\n",
    " <p><div class=\"lev1 toc-item\"><a href=\"#ハノイの塔\" data-toc-modified-id=\"ハノイの塔-1\"><span class=\"toc-item-num\">1&nbsp;&nbsp;</span>ハノイの塔</a></div><div class=\"lev2 toc-item\"><a href=\"#規則\" data-toc-modified-id=\"規則-11\"><span class=\"toc-item-num\">1.1&nbsp;&nbsp;</span>規則</a></div><div class=\"lev2 toc-item\"><a href=\"#ハノイの塔を解く手順\" data-toc-modified-id=\"ハノイの塔を解く手順-12\"><span class=\"toc-item-num\">1.2&nbsp;&nbsp;</span>ハノイの塔を解く手順</a></div><div class=\"lev3 toc-item\"><a href=\"#2段ハノイの塔の場合\" data-toc-modified-id=\"2段ハノイの塔の場合-121\"><span class=\"toc-item-num\">1.2.1&nbsp;&nbsp;</span>2段ハノイの塔の場合</a></div><div class=\"lev3 toc-item\"><a href=\"#3段ハノイの塔の場合\" data-toc-modified-id=\"3段ハノイの塔の場合-122\"><span class=\"toc-item-num\">1.2.2&nbsp;&nbsp;</span>3段ハノイの塔の場合</a></div><div class=\"lev3 toc-item\"><a href=\"#4段ハノイの塔の場合\" data-toc-modified-id=\"4段ハノイの塔の場合-123\"><span class=\"toc-item-num\">1.2.3&nbsp;&nbsp;</span>4段ハノイの塔の場合</a></div><div class=\"lev2 toc-item\"><a href=\"#n段ハノイの塔を解く手順\" data-toc-modified-id=\"n段ハノイの塔を解く手順-13\"><span class=\"toc-item-num\">1.3&nbsp;&nbsp;</span>n段ハノイの塔を解く手順</a></div><div class=\"lev3 toc-item\"><a href=\"#考え方\" data-toc-modified-id=\"考え方-131\"><span class=\"toc-item-num\">1.3.1&nbsp;&nbsp;</span>考え方</a></div><div class=\"lev3 toc-item\"><a href=\"#フローチャート\" data-toc-modified-id=\"フローチャート-132\"><span class=\"toc-item-num\">1.3.2&nbsp;&nbsp;</span>フローチャート</a></div><div class=\"lev3 toc-item\"><a href=\"#コード\" data-toc-modified-id=\"コード-133\"><span class=\"toc-item-num\">1.3.3&nbsp;&nbsp;</span>コード</a></div><div class=\"lev2 toc-item\"><a href=\"#関数呼び出しを追う\" data-toc-modified-id=\"関数呼び出しを追う-14\"><span class=\"toc-item-num\">1.4&nbsp;&nbsp;</span>関数呼び出しを追う</a></div><div class=\"lev3 toc-item\"><a href=\"#n=2の場合\" data-toc-modified-id=\"n=2の場合-141\"><span class=\"toc-item-num\">1.4.1&nbsp;&nbsp;</span>n=2の場合</a></div><div class=\"lev3 toc-item\"><a href=\"#n=3の場合\" data-toc-modified-id=\"n=3の場合-142\"><span class=\"toc-item-num\">1.4.2&nbsp;&nbsp;</span>n=3の場合</a></div><div class=\"lev3 toc-item\"><a href=\"#ハノイの塔の証明\" data-toc-modified-id=\"ハノイの塔の証明-143\"><span class=\"toc-item-num\">1.4.3&nbsp;&nbsp;</span>ハノイの塔の証明</a></div><div class=\"lev2 toc-item\"><a href=\"#移動回数\" data-toc-modified-id=\"移動回数-15\"><span class=\"toc-item-num\">1.5&nbsp;&nbsp;</span>移動回数</a></div><div class=\"lev3 toc-item\"><a href=\"#移動回数の計算\" data-toc-modified-id=\"移動回数の計算-151\"><span class=\"toc-item-num\">1.5.1&nbsp;&nbsp;</span>移動回数の計算</a></div><div class=\"lev2 toc-item\"><a href=\"#非再帰（繰り返し）でできるか\" data-toc-modified-id=\"非再帰（繰り返し）でできるか-16\"><span class=\"toc-item-num\">1.6&nbsp;&nbsp;</span>非再帰（繰り返し）でできるか</a></div><div class=\"lev3 toc-item\"><a href=\"#時間を計測-再帰-vs-非再帰\" data-toc-modified-id=\"時間を計測-再帰-vs-非再帰-161\"><span class=\"toc-item-num\">1.6.1&nbsp;&nbsp;</span>時間を計測 再帰 vs 非再帰</a></div><div class=\"lev2 toc-item\"><a href=\"#参考\" data-toc-modified-id=\"参考-17\"><span class=\"toc-item-num\">1.7&nbsp;&nbsp;</span>参考</a></div>"
   ]
  },
  {
   "cell_type": "code",
   "execution_count": 1,
   "metadata": {
    "ExecuteTime": {
     "end_time": "2017-02-08T12:49:25.379657",
     "start_time": "2017-02-08T12:49:22.585794"
    },
    "collapsed": true
   },
   "outputs": [],
   "source": [
    "import scipy as sp\n",
    "\n",
    "import matplotlib.pylab as plt"
   ]
  },
  {
   "cell_type": "markdown",
   "metadata": {},
   "source": [
    "# ハノイの塔"
   ]
  },
  {
   "cell_type": "markdown",
   "metadata": {},
   "source": [
    "- [GitHub this](https://github.com/Cartman0/TowerOfHanoiProblem)\n",
    "- [nbviewer this](http://nbviewer.jupyter.org/github/Cartman0/TowerOfHanoiProblem/blob/master/hanoi.ipynb)"
   ]
  },
  {
   "cell_type": "markdown",
   "metadata": {},
   "source": [
    "## 規則"
   ]
  },
  {
   "cell_type": "markdown",
   "metadata": {},
   "source": [
    "- 1回に1枚の円盤だけ動かす．\n",
    "- 移動の途中で円盤の大小を逆に積んではいけない．\n",
    "常に大きい方の円盤が下になるようにする．\n",
    "- 棒A，B，C以外のところに円盤を置いてはいけない．"
   ]
  },
  {
   "cell_type": "markdown",
   "metadata": {},
   "source": [
    "ハノイの塔($n=3$段)の目標\n",
    "\n",
    "```\n",
    " 1                                  1\n",
    "22                 ->              22\n",
    "333                                333\n",
    "場所A 場所B 場所C     場所A 場所B 場所C\n",
    "```"
   ]
  },
  {
   "cell_type": "markdown",
   "metadata": {},
   "source": [
    "## ハノイの塔を解く手順"
   ]
  },
  {
   "cell_type": "markdown",
   "metadata": {},
   "source": [
    "### 2段ハノイの塔の場合"
   ]
  },
  {
   "cell_type": "markdown",
   "metadata": {},
   "source": [
    "初期状態\n",
    "```\n",
    " 1                \n",
    "22                               \n",
    "場所A 場所B 場所C  \n",
    "```\n",
    "\n",
    "1回目：1段目 A->B\n",
    "\n",
    "```            \n",
    "22      1                        \n",
    "場所A 場所B 場所C  \n",
    "```\n",
    "\n",
    "2回目：2段目 A->C\n",
    "\n",
    "```            \n",
    "        1     22                   \n",
    "場所A 場所B 場所C  \n",
    "```\n",
    "\n",
    "3回目：1段目 B->C\n",
    "\n",
    "```          \n",
    "              1\n",
    "              22                   \n",
    "場所A 場所B 場所C  \n",
    "```\n"
   ]
  },
  {
   "cell_type": "markdown",
   "metadata": {},
   "source": [
    "### 3段ハノイの塔の場合"
   ]
  },
  {
   "cell_type": "markdown",
   "metadata": {},
   "source": [
    "初期状態\n",
    "```\n",
    " 1                \n",
    "22   \n",
    "333\n",
    "場所A 場所B 場所C  \n",
    "```\n",
    "\n",
    "まず，[1-2]段を場所Bに逃がす\n",
    "\n",
    "1回目：1段目 A->C\n",
    "\n",
    "```  \n",
    "22\n",
    "333           1\n",
    "場所A 場所B 場所C  \n",
    "```\n",
    "\n",
    "2回目：2段目 A->B\n",
    "\n",
    "```  \n",
    "333    22     1\n",
    "場所A 場所B 場所C  \n",
    "```\n",
    "\n",
    "3回目：1段目 C -> B\n",
    "\n",
    "```  \n",
    "        1\n",
    "333    22     \n",
    "場所A 場所B 場所C  \n",
    "```\n",
    "\n",
    "避難完了したので，3段目を場所Cへ\n",
    "\n",
    "4回目：1段目 A -> C\n",
    "\n",
    "```  \n",
    "        1\n",
    "       22    333\n",
    "場所A 場所B 場所C  \n",
    "```\n",
    "\n",
    "2段目を場所$C$へ移動させるため，\n",
    "[1]段を避難させる\n",
    "\n",
    "5回目：1段目 B -> A\n",
    "\n",
    "```  \n",
    "       \n",
    "  1    22    333\n",
    "場所A 場所B 場所C  \n",
    "```\n",
    "\n",
    "避難できたので，2段目を場所Cへ\n",
    "\n",
    "\n",
    "6回目：2段目 B -> C\n",
    "\n",
    "```  \n",
    "             22\n",
    "  1          333\n",
    "場所A 場所B 場所C  \n",
    "```\n",
    "\n",
    "7回目：1段目 A -> C\n",
    "\n",
    "```\n",
    "              1\n",
    "             22\n",
    "             333\n",
    "場所A 場所B 場所C  \n",
    "```"
   ]
  },
  {
   "cell_type": "markdown",
   "metadata": {},
   "source": [
    "### 4段ハノイの塔の場合"
   ]
  },
  {
   "cell_type": "markdown",
   "metadata": {},
   "source": [
    "初期状態\n",
    "```\n",
    " 1                \n",
    " 22   \n",
    "333\n",
    "4444\n",
    "場所A 場所B 場所C  \n",
    "```\n",
    "\n",
    "まず，[1-3]段を場所Bに逃がす．\n",
    "そのため，3段目を場所Bに置くことを考える．\n",
    "\n",
    "1回目：1段目 A->B\n",
    "\n",
    "```  \n",
    " 22\n",
    "333           \n",
    "4444    1\n",
    "場所A 場所B 場所C  \n",
    "```\n",
    "\n",
    "2回目：2段目 A->C\n",
    "\n",
    "```  \n",
    "333           \n",
    "4444    1     22\n",
    "場所A 場所B 場所C  \n",
    "```\n",
    "\n",
    "3回目：1段目 B -> C\n",
    "\n",
    "```  \n",
    "333            1    \n",
    "4444          22\n",
    "場所A 場所B 場所C  \n",
    "```\n",
    "\n",
    "3段目を場所Bへ\n",
    "\n",
    "4回目：3段目 A -> B\n",
    "\n",
    "```  \n",
    "              1    \n",
    "4444    333   22\n",
    "場所A 場所B 場所C  \n",
    "```\n",
    "\n",
    "避難させていた[1-2]段を場所$C$から場所Bへ\n",
    "\n",
    "5回目：1段目 C -> A\n",
    "\n",
    "```  \n",
    "  1               \n",
    "4444    333   22\n",
    "場所A 場所B 場所C  \n",
    "```\n",
    "\n",
    "6回目：2段目 C -> B\n",
    "\n",
    "```  \n",
    " 1      22         \n",
    "4444   333  \n",
    "場所A 場所B 場所C  \n",
    "```\n",
    "\n",
    "7回目：1段目 A -> B\n",
    "\n",
    "```\n",
    "        1\n",
    "        22\n",
    "4444   333\n",
    "場所A 場所B 場所C  \n",
    "```\n",
    "\n",
    "避難完了したので，4段目を場所Cへ\n",
    "\n",
    "8回目：4段目 A -> C\n",
    "\n",
    "```\n",
    "        1\n",
    "        22\n",
    "       333  4444\n",
    "場所A 場所B 場所C  \n",
    "```\n",
    "\n",
    "場所Bの3段目を場所Cへ移動させることを考える．\n",
    "そのため，[1-2]段を場所Aへ避難させる．\n",
    "\n",
    "9回目：1段目 B -> C\n",
    "\n",
    "```\n",
    "        \n",
    "        22    1\n",
    "       333  4444\n",
    "場所A 場所B 場所C  \n",
    "```\n",
    "\n",
    "10回目：2段目 B -> A\n",
    "\n",
    "```      \n",
    "              1\n",
    "  22   333  4444\n",
    "場所A 場所B 場所C  \n",
    "```\n",
    "\n",
    "11回目：1段目 C -> A\n",
    "\n",
    "```      \n",
    "  1\n",
    "  22   333  4444\n",
    "場所A 場所B 場所C  \n",
    "```\n",
    "\n",
    "[1-2]段の避難ができたので，\n",
    "3段目を場所Cへ\n",
    "\n",
    "12回目：1段目 B -> C\n",
    "\n",
    "```      \n",
    "  1          333\n",
    "  22         4444\n",
    "場所A 場所B 場所C  \n",
    "```\n",
    "\n",
    "2段目を場所Cへ動かすことを考える．\n",
    "\n",
    "13回目：1段目 A -> B\n",
    "\n",
    "```      \n",
    "             333\n",
    "  22    1    4444\n",
    "場所A 場所B 場所C  \n",
    "```\n",
    "\n",
    "[1]段の避難ができたので，2団目を場所Cへ移動\n",
    "\n",
    "14回目：2段目 A -> C\n",
    "\n",
    "```        \n",
    "              22\n",
    "             333\n",
    "        1    4444\n",
    "場所A 場所B 場所C  \n",
    "```\n",
    "\n",
    "移動完了\n",
    "\n",
    "15回目：1段目 B -> C\n",
    "\n",
    "```        \n",
    "              1\n",
    "              22\n",
    "             333\n",
    "             4444\n",
    "場所A 場所B 場所C  \n",
    "```"
   ]
  },
  {
   "cell_type": "markdown",
   "metadata": {},
   "source": [
    "## n段ハノイの塔を解く手順"
   ]
  },
  {
   "cell_type": "markdown",
   "metadata": {},
   "source": [
    "### 考え方"
   ]
  },
  {
   "cell_type": "markdown",
   "metadata": {},
   "source": [
    "n段ハノイの塔を徳手順を考える．\n",
    "\n",
    "`Hanoi(k, s, p, g)`：\n",
    "k段の円盤を場所 $s$ から 場所 $g$ へ\n",
    "途中，場所pを介しながら円盤を移動する手順とする．\n",
    "\n",
    "- `Hanoi(1, s, p, g)` のとき：\n",
    "1段の円盤を場所 $s$ から，場所 $g$ へ移動する手順となる．場所pを介する必要がないので，1回の操作で解決できる．\n",
    "\n",
    "- 一般の`Hanoi(k, s, p, g)` のとき：\n",
    "    1. $k-1$段の円盤を場所 `s` から場所 `p` へ一旦移動（逃がし），\n",
    "    \n",
    "    ```\n",
    "             1\n",
    "     333    22  \n",
    "    場所s 場所p 場所g\n",
    "    ```\n",
    "    \n",
    "    2. $k$段目を s -> g へ（1回）移動し，\n",
    "    \n",
    "    ```\n",
    "              1\n",
    "             22    333\n",
    "    場所s 場所p 場所g\n",
    "    ```\n",
    "    \n",
    "    3. 一旦逃がした$k-1$段を場所`p`から場所`g`へ移動させる．\n",
    "    \n",
    "    ``` \n",
    "                    1 \n",
    "                    22\n",
    "                   333\n",
    "    場所s 場所p 場所g\n",
    "    ```\n"
   ]
  },
  {
   "cell_type": "markdown",
   "metadata": {},
   "source": [
    "- $k = 1$ の場合は，1回と決まっている．\n",
    "- $k$段の解は，$k-1$段の解がわかれば構成できる．\n",
    "\n",
    "こういう場合，再帰呼び出しが得意な場合になる．"
   ]
  },
  {
   "cell_type": "markdown",
   "metadata": {},
   "source": [
    "### フローチャート"
   ]
  },
  {
   "cell_type": "markdown",
   "metadata": {},
   "source": [
    "<img src=\"hanoi_flow_activity.svg\" width=\"30%\">"
   ]
  },
  {
   "cell_type": "markdown",
   "metadata": {},
   "source": [
    "### コード"
   ]
  },
  {
   "cell_type": "code",
   "execution_count": 2,
   "metadata": {
    "ExecuteTime": {
     "end_time": "2017-02-08T12:49:28.119487",
     "start_time": "2017-02-08T12:49:28.112481"
    },
    "collapsed": true
   },
   "outputs": [],
   "source": [
    "def hanoi(n:int, start:str, partition:str, goal:str):\n",
    "    '''\n",
    "    n段をstart->goalへ移動.\n",
    "    partitionは途中の移動に使用\n",
    "    '''\n",
    "    if n >= 1:\n",
    "        # 上に乗っているn-1段を一旦移動\n",
    "        hanoi(n-1, start, goal, partition)\n",
    "        print(\"{} 段目を {} -> {} \".format(n, start, goal))\n",
    "        # 一旦移動したn-1段をgoalへ\n",
    "        hanoi(n-1, partition, start, goal)"
   ]
  },
  {
   "cell_type": "code",
   "execution_count": 3,
   "metadata": {
    "ExecuteTime": {
     "end_time": "2017-02-08T12:49:28.133496",
     "start_time": "2017-02-08T12:49:28.124490"
    },
    "collapsed": false
   },
   "outputs": [
    {
     "name": "stdout",
     "output_type": "stream",
     "text": [
      "1 段目を A -> C \n",
      "2 段目を A -> B \n",
      "1 段目を C -> B \n",
      "3 段目を A -> C \n",
      "1 段目を B -> A \n",
      "2 段目を B -> C \n",
      "1 段目を A -> C \n"
     ]
    }
   ],
   "source": [
    "hanoi(3, \"A\", \"B\", \"C\")"
   ]
  },
  {
   "cell_type": "markdown",
   "metadata": {},
   "source": [
    "## 関数呼び出しを追う"
   ]
  },
  {
   "cell_type": "markdown",
   "metadata": {},
   "source": [
    "### n=2の場合"
   ]
  },
  {
   "cell_type": "markdown",
   "metadata": {},
   "source": [
    "```\n",
    "Hanoi(2, f, w, d)\n",
    "{\n",
    "    Hanoi(1, f, d, w)\n",
    "    {\n",
    "       print(1: f -> w)\n",
    "    }\n",
    "    print(2: f -> d)\n",
    "    Hanoi(1, w, f, d)\n",
    "    {\n",
    "        print(1: w -> d)\n",
    "    }\n",
    "}\n",
    "```"
   ]
  },
  {
   "cell_type": "markdown",
   "metadata": {},
   "source": [
    "### n=3の場合"
   ]
  },
  {
   "cell_type": "markdown",
   "metadata": {},
   "source": [
    "```\n",
    "Hanoi(3, f, w, d)\n",
    "{\n",
    "    Hanoi(2, f, d, w)\n",
    "    {\n",
    "        Hanoi(1, f, w, d)\n",
    "        {\n",
    "           print(1: f -> d)\n",
    "        }\n",
    "        print(2: f -> w)\n",
    "        Hanoi(1, d, f, w)\n",
    "        {\n",
    "            print(1: d -> w)\n",
    "        }\n",
    "    }\n",
    "    \n",
    "    print(3: f -> d)\n",
    "    \n",
    "    Hanoi(2, w, f, d)\n",
    "    {\n",
    "        Hanoi(1, w, d, f)\n",
    "        {\n",
    "            print(1: w -> f)\n",
    "        }\n",
    "        print(2: w -> d)\n",
    "        Hanoi(1, f, w, d)\n",
    "        {\n",
    "            print(1: f -> d)\n",
    "        }\n",
    "    }\n",
    "}\n",
    "```"
   ]
  },
  {
   "cell_type": "markdown",
   "metadata": {},
   "source": [
    "### ハノイの塔の証明"
   ]
  },
  {
   "cell_type": "markdown",
   "metadata": {},
   "source": [
    "```\n",
    "01 def hanoi(n:int, start:str, partition:str, goal:str): \n",
    "02 if n >= 1:\n",
    "03      hanoi(n-1, start, goal, partition) # 上に乗っているn-1段を一旦移動\n",
    "04      print(\"{} 段目を {} -> {} \".format(n, start, goal))\n",
    "05      hanoi(n-1, partition, start, goal) \n",
    "```\n",
    "\n",
    "ここでHanoi(n,start, partition, goal) という操作の意味を正確にしておく。\n",
    "\n",
    "- この操作は $1-n$ まで順に積まれた $n$ 個の円盤を `start` から `goal` へ移動する操作。\n",
    "- 操作開始時，`start` には $1 - n$ まで順に積まれた $n$ 個の円盤がある。\n",
    "- 操作終了後，`goal` には$1 - n$まで順に円盤が積まれたものになる。\n",
    "- その際，`partition` を補助的に使っても良い。\n",
    "- さらに，この操作はゲームの規則(1),(2),(3) を満たす。\n",
    "- またn+1 以上の円盤があっても，この操作はそれに関係なく行われる。"
   ]
  },
  {
   "cell_type": "markdown",
   "metadata": {},
   "source": [
    "証明は数学的帰納法を使う。\n",
    "\n",
    "1. $n=0$ の場合：\n",
    "2行の条件を満たさないから，`Hanoi(n, s, p, g)` は何もしない。\n",
    "\n",
    "2. $n=1$ の場合：\n",
    "$n=1$ の場合，$3-5$行が実行されるが，\n",
    "3，5行は `Hanoi(0,s, g, p)`，`Hanoi(0, p, s, g)` で何も実行しません。つまり，この場合は，4行だけ実行されます。従って，1番の円盤を `start` から `goal` へ移動と言う操作で，この場合正しい操作になっています。\n",
    "\n",
    "3. $n-1$の場合: Hanoi が正しい操作を行っていると仮定します。\n",
    "このとき　$n$の場合正しい操作になることを示す。\n",
    "    1. まず，開始時 `start` には $1 - n$ まで順に積まれた$n$個の円盤がある。\n",
    "　  2. 03行目で，`Hanoi(n-1, s, g, p)`：このとき，`start` には $1 - n$ までの円盤があるから，この操作は可能。\n",
    "   ここで Hanoi は `n-1` の時は正しい操作をすると言う仮定から，3行の結果，$1 - n-1$ までの円盤が規則(1),(2),(3) を満たしながら `p` へ移動する。\n",
    "　この過程で $1 - n-1$ 以外の円盤の上に乗ることもありますが，あったとしても，\n",
    " それは $n$ 以上の大きいものの上です。 従って規則(2)を満たす。\n",
    "    3. 次に，04行目で $n$番目の円盤を `s` から `g` へ移動する。今 $1 - n-1$までの円盤は `p` にあるから，`goal` に円盤があるとしてもそれは$n + 1$番以上の円盤です。従って，$n$の円盤を `g` に移動しても規則(2)を満たす。\n",
    "\n",
    "4. 最後に，5行目で `Hanoi(n-1, p, start, goal)`： これは先ほど移動した，$1 - n-1$ の円盤を  `p`から `goal` に移動するもの。 \n",
    " これもHanoi は $n-1$ の時は正しい操作をすると言う仮定から，正しく動作し，規則(2)を満たす。\n",
    "\n",
    "\n",
    "以上から，nの場合も正しい操作になる。"
   ]
  },
  {
   "cell_type": "markdown",
   "metadata": {},
   "source": [
    "## 移動回数"
   ]
  },
  {
   "cell_type": "code",
   "execution_count": 4,
   "metadata": {
    "ExecuteTime": {
     "end_time": "2017-02-08T12:49:31.021423",
     "start_time": "2017-02-08T12:49:30.998408"
    },
    "collapsed": false
   },
   "outputs": [],
   "source": [
    "def hanoi(n:int, start:str, partition:str, goal:str):\n",
    "    move_n = 0\n",
    "    def hanoi_rec(n:int, start:str, partition:str, goal:str):\n",
    "        '''\n",
    "        n段をA->Bへ移動.\n",
    "        Cは途中の移動に使用\n",
    "        '''\n",
    "        if n >= 1:\n",
    "            # nonlocal でローカル変数でないことを宣言\n",
    "            # https://docs.python.jp/3/faq/programming.html\n",
    "            nonlocal move_n \n",
    "            \n",
    "            # 上に乗っているn-1段を一旦移動\n",
    "            hanoi_rec(n-1, start, goal, partition)\n",
    "            print(\"{} 段目を {} -> {}\".format(n, start, goal))\n",
    "            # 一旦移動したn-1段をgoalへ\n",
    "            hanoi_rec(n-1, partition, start, goal)\n",
    "            move_n = move_n + 1 \n",
    "            \n",
    "    hanoi_rec(n, start, partition, goal)\n",
    "    print(\"move_n: \", move_n)"
   ]
  },
  {
   "cell_type": "code",
   "execution_count": 5,
   "metadata": {
    "ExecuteTime": {
     "end_time": "2017-02-08T12:49:31.075459",
     "start_time": "2017-02-08T12:49:31.024424"
    },
    "collapsed": false
   },
   "outputs": [
    {
     "name": "stdout",
     "output_type": "stream",
     "text": [
      "1 段目を A -> C\n",
      "2 段目を A -> B\n",
      "1 段目を C -> B\n",
      "3 段目を A -> C\n",
      "1 段目を B -> A\n",
      "2 段目を B -> C\n",
      "1 段目を A -> C\n",
      "move_n:  7\n"
     ]
    }
   ],
   "source": [
    "hanoi(3, \"A\", \"B\", \"C\")"
   ]
  },
  {
   "cell_type": "code",
   "execution_count": 6,
   "metadata": {
    "ExecuteTime": {
     "end_time": "2017-02-08T12:49:31.089469",
     "start_time": "2017-02-08T12:49:31.078462"
    },
    "collapsed": false
   },
   "outputs": [
    {
     "name": "stdout",
     "output_type": "stream",
     "text": [
      "1 段目を A -> C\n",
      "2 段目を A -> B\n",
      "1 段目を C -> B\n",
      "3 段目を A -> C\n",
      "1 段目を B -> A\n",
      "2 段目を B -> C\n",
      "1 段目を A -> C\n",
      "4 段目を A -> B\n",
      "1 段目を C -> B\n",
      "2 段目を C -> A\n",
      "1 段目を B -> A\n",
      "3 段目を C -> B\n",
      "1 段目を A -> C\n",
      "2 段目を A -> B\n",
      "1 段目を C -> B\n",
      "5 段目を A -> C\n",
      "1 段目を B -> A\n",
      "2 段目を B -> C\n",
      "1 段目を A -> C\n",
      "3 段目を B -> A\n",
      "1 段目を C -> B\n",
      "2 段目を C -> A\n",
      "1 段目を B -> A\n",
      "4 段目を B -> C\n",
      "1 段目を A -> C\n",
      "2 段目を A -> B\n",
      "1 段目を C -> B\n",
      "3 段目を A -> C\n",
      "1 段目を B -> A\n",
      "2 段目を B -> C\n",
      "1 段目を A -> C\n",
      "move_n:  31\n"
     ]
    }
   ],
   "source": [
    "hanoi(5, \"A\", \"B\", \"C\")"
   ]
  },
  {
   "cell_type": "markdown",
   "metadata": {},
   "source": [
    "### 移動回数の計算"
   ]
  },
  {
   "cell_type": "markdown",
   "metadata": {},
   "source": [
    "参考：\n",
    "http://www2.cc.niigata-u.ac.jp/~takeuchi/tbasic/BackGround/Hanoi.html\n",
    "\n",
    "ハノイの塔の解法プログラム Hanoi での移動の回数を計算。\n",
    "移動の回数を $H(n)$ と表す。\n",
    "\n",
    "`Hanoi(n,A$,B$,C$)`は\n",
    "3,4,5行で移動を出力しますが，\n",
    "- 3行は $H(n-1)$ 回の移動，\n",
    "- 4行は 1回の移動，つまり，$H(1)$ \n",
    "- 5行は $H(n-1)$回の移動を出力します。\n",
    "\n",
    "従って，\n",
    "$H(1)=1, n >1$ のとき，\n",
    "\n",
    "$$\n",
    "H(n)=H(n-1)+1+H(n-1) \n",
    "$$\n",
    "\n",
    "となる。\n",
    "\n",
    "この漸化式は，\n",
    "$H(1)=1, n>1, H(0)=0$ のとき，\n",
    "\n",
    "$$\n",
    "H(n) = 2 \\cdot H(n-1) + 1 \\\\\n",
    "H(n) + 1 = 2 \\cdot H(n-1) + 2 \\\\\n",
    "H(n)+1 = 2 \\cdot (H(n-1)+1) \n",
    "$$\n",
    "\n",
    "$$\n",
    "\\{H(1)+1 = 2, 2(H(1)+1), 2^2 (H(1)+1), \\cdots \\}\n",
    "$$\n",
    "\n",
    "から初項$H(1)+1 = 2$, 公比$r=2$ の等比数列より，\n",
    "\n",
    "$$\n",
    "H(n)+1 = (H(1)+1) \\cdot 2^{n-1} \\\\\n",
    "= 2^n\\\\\n",
    "$$\n",
    "\n",
    "よって，\n",
    "\n",
    "$$\n",
    "H(n)=2^n - 1\n",
    "$$\n",
    "\n",
    "となる． \n",
    "\n",
    "メルセンヌ素数 https://ja.wikipedia.org/wiki/%E3%83%A1%E3%83%AB%E3%82%BB%E3%83%B3%E3%83%8C%E6%95%B0 と一致する．"
   ]
  },
  {
   "cell_type": "code",
   "execution_count": 7,
   "metadata": {
    "ExecuteTime": {
     "end_time": "2017-02-08T12:49:31.757914",
     "start_time": "2017-02-08T12:49:31.752910"
    },
    "collapsed": true
   },
   "outputs": [],
   "source": [
    "def H(n):\n",
    "    n_int64 = sp.array(n, dtype=sp.int64)\n",
    "    return sp.power(2, n_int64) - 1"
   ]
  },
  {
   "cell_type": "markdown",
   "metadata": {},
   "source": [
    "この数値はかなり大きい。\n",
    "\n",
    "例えば，\n",
    "\n",
    "- $H(10)=1023$\n",
    "- $H(40)=1099511627775$\n",
    "\n",
    "となる。\n"
   ]
  },
  {
   "cell_type": "code",
   "execution_count": 8,
   "metadata": {
    "ExecuteTime": {
     "end_time": "2017-02-08T12:49:32.105146",
     "start_time": "2017-02-08T12:49:32.078128"
    },
    "collapsed": false
   },
   "outputs": [
    {
     "data": {
      "text/plain": [
       "(1023, 1099511627775)"
      ]
     },
     "execution_count": 8,
     "metadata": {},
     "output_type": "execute_result"
    }
   ],
   "source": [
    "H(10), H(40) "
   ]
  },
  {
   "cell_type": "code",
   "execution_count": 9,
   "metadata": {
    "ExecuteTime": {
     "end_time": "2017-02-08T12:49:33.827295",
     "start_time": "2017-02-08T12:49:32.108148"
    },
    "collapsed": false
   },
   "outputs": [
    {
     "data": {
      "image/png": "[encoded data removed]",
      "text/plain": [
       "<matplotlib.figure.Figure at 0x15f724000b8>"
      ]
     },
     "metadata": {},
     "output_type": "display_data"
    }
   ],
   "source": [
    "%matplotlib inline\n",
    "\n",
    "n_ar = sp.arange(1, 40+1, 1)\n",
    "plt.plot(n_ar, H(n_ar))\n",
    "plt.yscale(\"log\")\n",
    "plt.xlabel(\"n\")\n",
    "plt.ylabel(\"move_num\")\n",
    "plt.grid()\n",
    "plt.show()"
   ]
  },
  {
   "cell_type": "code",
   "execution_count": 10,
   "metadata": {
    "ExecuteTime": {
     "end_time": "2017-02-08T12:49:33.838303",
     "start_time": "2017-02-08T12:49:33.830297"
    },
    "collapsed": false
   },
   "outputs": [
    {
     "data": {
      "text/plain": [
       "array([            1,             3,             7,            15,\n",
       "                  31,            63,           127,           255,\n",
       "                 511,          1023,          2047,          4095,\n",
       "                8191,         16383,         32767,         65535,\n",
       "              131071,        262143,        524287,       1048575,\n",
       "             2097151,       4194303,       8388607,      16777215,\n",
       "            33554431,      67108863,     134217727,     268435455,\n",
       "           536870911,    1073741823,    2147483647,    4294967295,\n",
       "          8589934591,   17179869183,   34359738367,   68719476735,\n",
       "        137438953471,  274877906943,  549755813887, 1099511627775], dtype=int64)"
      ]
     },
     "execution_count": 10,
     "metadata": {},
     "output_type": "execute_result"
    }
   ],
   "source": [
    "H(n_ar)"
   ]
  },
  {
   "cell_type": "markdown",
   "metadata": {},
   "source": [
    "## 非再帰（繰り返し）でできるか"
   ]
  },
  {
   "cell_type": "markdown",
   "metadata": {},
   "source": [
    "```\n",
    "Hanoi(3, f, w, d)\n",
    "{\n",
    "    Hanoi(2, f, d, w)\n",
    "    {\n",
    "        Hanoi(1, f, w, d)\n",
    "        {\n",
    "           print(1: f -> d)\n",
    "        }\n",
    "        print(2: f -> w)\n",
    "        Hanoi(1, d, f, w)\n",
    "        {\n",
    "            print(1: d -> w)\n",
    "        }\n",
    "    }\n",
    "    \n",
    "    print(3: f -> d)\n",
    "    \n",
    "    Hanoi(2, w, f, d)\n",
    "    {\n",
    "        Hanoi(1, w, d, f)\n",
    "        {\n",
    "            print(1: w -> f)\n",
    "        }\n",
    "        print(2: w -> d)\n",
    "        Hanoi(1, f, w, d)\n",
    "        {\n",
    "            print(1: f -> d)\n",
    "        }\n",
    "    }\n",
    "}\n",
    "```\n",
    "\n",
    "を参考にスタックとwhileループを利用して実装する．"
   ]
  },
  {
   "cell_type": "markdown",
   "metadata": {},
   "source": [
    "参考：http://d.hatena.ne.jp/wordi/20100904/p1"
   ]
  },
  {
   "cell_type": "code",
   "execution_count": 11,
   "metadata": {
    "ExecuteTime": {
     "end_time": "2017-02-08T12:49:33.890337",
     "start_time": "2017-02-08T12:49:33.841305"
    },
    "collapsed": false
   },
   "outputs": [],
   "source": [
    "def hanoi_ite(n, f, w, d):\n",
    "    stack = []\n",
    "    # now\n",
    "    (N, From, Work, Dist) = (n, f, w, d)\n",
    "    stack.append((N, From, Work, Dist))\n",
    "    \n",
    "    while stack:\n",
    "        while N-1 >= 1:\n",
    "            # N-1段を F -> W\n",
    "            stack.append((N-1, From, Dist, Work))\n",
    "            (N, From, Work, Dist) = stack[-1]\n",
    "        \n",
    "        # N段を F -> D\n",
    "        p = stack.pop()\n",
    "        print(p)\n",
    "        (N, From, Work, Dist) = p\n",
    "        \n",
    "        if N-1 >= 1: \n",
    "            # N-1段を W -> D\n",
    "            stack.append((N-1, Work, From, Dist))\n",
    "            (N, From, Work, Dist) = stack[-1]"
   ]
  },
  {
   "cell_type": "code",
   "execution_count": 12,
   "metadata": {
    "ExecuteTime": {
     "end_time": "2017-02-08T12:49:33.903346",
     "start_time": "2017-02-08T12:49:33.893340"
    },
    "collapsed": false,
    "scrolled": false
   },
   "outputs": [
    {
     "name": "stdout",
     "output_type": "stream",
     "text": [
      "(1, 'A', 'B', 'C')\n",
      "(2, 'A', 'C', 'B')\n",
      "(1, 'C', 'A', 'B')\n",
      "(3, 'A', 'B', 'C')\n",
      "(1, 'B', 'C', 'A')\n",
      "(2, 'B', 'A', 'C')\n",
      "(1, 'A', 'B', 'C')\n",
      "(4, 'A', 'C', 'B')\n",
      "(1, 'C', 'A', 'B')\n",
      "(2, 'C', 'B', 'A')\n",
      "(1, 'B', 'C', 'A')\n",
      "(3, 'C', 'A', 'B')\n",
      "(1, 'A', 'B', 'C')\n",
      "(2, 'A', 'C', 'B')\n",
      "(1, 'C', 'A', 'B')\n",
      "(5, 'A', 'B', 'C')\n",
      "(1, 'B', 'C', 'A')\n",
      "(2, 'B', 'A', 'C')\n",
      "(1, 'A', 'B', 'C')\n",
      "(3, 'B', 'C', 'A')\n",
      "(1, 'C', 'A', 'B')\n",
      "(2, 'C', 'B', 'A')\n",
      "(1, 'B', 'C', 'A')\n",
      "(4, 'B', 'A', 'C')\n",
      "(1, 'A', 'B', 'C')\n",
      "(2, 'A', 'C', 'B')\n",
      "(1, 'C', 'A', 'B')\n",
      "(3, 'A', 'B', 'C')\n",
      "(1, 'B', 'C', 'A')\n",
      "(2, 'B', 'A', 'C')\n",
      "(1, 'A', 'B', 'C')\n"
     ]
    }
   ],
   "source": [
    "hanoi_ite(5, \"A\", \"B\", \"C\")"
   ]
  },
  {
   "cell_type": "markdown",
   "metadata": {
    "ExecuteTime": {
     "end_time": "2017-02-08T12:19:49.454073",
     "start_time": "2017-02-08T12:19:49.450068"
    }
   },
   "source": [
    "### 時間を計測 再帰 vs 非再帰"
   ]
  },
  {
   "cell_type": "code",
   "execution_count": 24,
   "metadata": {
    "ExecuteTime": {
     "end_time": "2017-02-08T13:12:44.367407",
     "start_time": "2017-02-08T13:12:10.619912"
    },
    "collapsed": false,
    "scrolled": true
   },
   "outputs": [
    {
     "data": {
      "image/png": "[encoded data removed]",
      "text/plain": [
       "<matplotlib.figure.Figure at 0x15f72704978>"
      ]
     },
     "metadata": {},
     "output_type": "display_data"
    }
   ],
   "source": [
    "def hanoi_ite(n, f, w, d):\n",
    "    stack = []\n",
    "    # now\n",
    "    (N, From, Work, Dist) = (n, f, w, d)\n",
    "    stack.append((N, From, Work, Dist))\n",
    "    \n",
    "    while stack:\n",
    "        while N-1 >= 1:\n",
    "            # N-1段を F -> W\n",
    "            stack.append((N-1, From, Dist, Work))\n",
    "            (N, From, Work, Dist) = stack[-1]\n",
    "        \n",
    "        # N段を F -> D\n",
    "        p = stack.pop()\n",
    "#         print(p)\n",
    "        (N, From, Work, Dist) = p\n",
    "        \n",
    "        if N-1 >= 1: \n",
    "            # N-1段を W -> D\n",
    "            stack.append((N-1, Work, From, Dist))\n",
    "            (N, From, Work, Dist) = stack[-1]\n",
    "\n",
    "def hanoi(n:int, start:str, partition:str, goal:str):\n",
    "    '''\n",
    "    n段をstart->goalへ移動.\n",
    "    partitionは途中の移動に使用\n",
    "    '''\n",
    "    if n >= 1:\n",
    "        # 上に乗っているn-1段を一旦移動\n",
    "        hanoi(n-1, start, goal, partition)\n",
    "#         print(\"{} 段目を {} -> {} \".format(n, start, goal))\n",
    "        # 一旦移動したn-1段をgoalへ\n",
    "        hanoi(n-1, partition, start, goal)\n",
    "        \n",
    "import time\n",
    "n = 20\n",
    "time_rec = []\n",
    "time_ite = []\n",
    "\n",
    "def get_time(func, args_tuple, loop=5):\n",
    "    times = []\n",
    "    for i in sp.arange(loop):\n",
    "        s = time.time()\n",
    "        func(*args_tuple)\n",
    "        e = time.time()\n",
    "        times.append(e - s)\n",
    "    return sp.mean(times)\n",
    "\n",
    "for i in sp.arange(1, n+1, 1):\n",
    "    time_rec.append(get_time(hanoi, (i, \"A\", \"B\", \"C\")))  \n",
    "    time_ite.append(get_time(hanoi_ite, (i, \"A\", \"B\", \"C\")))\n",
    "\n",
    "plt.plot(sp.arange(1, n+1, 1), time_rec, label=\"recursive\")\n",
    "plt.plot(sp.arange(1, n+1, 1), time_ite, label=\"non-recursive\")\n",
    "plt.xlabel(\"disk num\")\n",
    "plt.ylabel(\"time [s]\")\n",
    "plt.suptitle(\"measuring time: recursive vs non-recursive\", y=0)\n",
    "plt.legend(loc=2)\n",
    "plt.grid()\n",
    "plt.tight_layout()\n",
    "plt.show()"
   ]
  },
  {
   "cell_type": "markdown",
   "metadata": {},
   "source": [
    "通常，\n",
    "再帰関数では関数呼び出しのオーバーヘッドがあり，\n",
    "非再帰のほうが実行時間が短くなる傾向にある．\n",
    "しかし，結果では非再帰のほうが実行時間が長くなった．\n",
    "\n",
    "おそらく，非再帰で使用している（スタックのように使用している）リストの操作がボトルネック担っていると考えられる．"
   ]
  },
  {
   "cell_type": "markdown",
   "metadata": {},
   "source": [
    "## 参考"
   ]
  },
  {
   "cell_type": "markdown",
   "metadata": {},
   "source": [
    "- [ハノイの塔 wikipedia]( https://ja.wikipedia.org/wiki/%E3%83%8F%E3%83%8E%E3%82%A4%E3%81%AE%E5%A1%94)\n",
    "- [ハノイの塔, 新潟大学 www2.cc.niigata-u.ac.jp](http://www2.cc.niigata-u.ac.jp/~takeuchi/tbasic/BackGround/Hanoi.html)\n",
    "- 大槻共著, \"エンジニアのためのプログラミング入門\" 2007年, p.160 ハノイの塔\n",
    "- [ハノイの塔(非再帰Ver), wordiの日記](http://d.hatena.ne.jp/wordi/20100904/p1)"
   ]
  }
 ],
 "metadata": {
  "kernelspec": {
   "display_name": "Python 3",
   "language": "python",
   "name": "python3"
  },
  "language_info": {
   "codemirror_mode": {
    "name": "ipython",
    "version": 3
   },
   "file_extension": ".py",
   "mimetype": "text/x-python",
   "name": "python",
   "nbconvert_exporter": "python",
   "pygments_lexer": "ipython3",
   "version": "3.5.2"
  },
  "latex_envs": {
   "LaTeX_envs_menu_present": true,
   "bibliofile": "biblio.bib",
   "cite_by": "apalike",
   "current_citInitial": 1,
   "eqLabelWithNumbers": true,
   "eqNumInitial": 1,
   "labels_anchors": false,
   "latex_user_defs": false,
   "report_style_numbering": false,
   "user_envs_cfg": false
  },
  "toc": {
   "colors": {
    "hover_highlight": "#DAA520",
    "running_highlight": "#FF0000",
    "selected_highlight": "#FFD700"
   },
   "moveMenuLeft": false,
   "navigate_menu": false,
   "number_sections": true,
   "sideBar": true,
   "threshold": "6",
   "toc_cell": true,
   "toc_position": {
    "height": "475px",
    "left": "0px",
    "right": "836px",
    "top": "160px",
    "width": "195px"
   },
   "toc_section_display": "block",
   "toc_window_display": true
  }
 },
 "nbformat": 4,
 "nbformat_minor": 0
}
